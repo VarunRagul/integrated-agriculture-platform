{
  "cells": [
    {
      "cell_type": "code",
      "execution_count": 4,
      "metadata": {
        "colab": {
          "base_uri": "https://localhost:8080/"
        },
        "id": "JGNZaVdDYv4i",
        "outputId": "ec958fc8-81de-4431-83ed-86f17bc45b71"
      },
      "outputs": [
        {
          "name": "stdout",
          "output_type": "stream",
          "text": [
            "cuda_malloc_async\n"
          ]
        }
      ],
      "source": [
        "import os\n",
        "os.environ['TF_GPU_ALLOCATOR'] = 'cuda_malloc_async'\n",
        "print(os.getenv('TF_GPU_ALLOCATOR'))"
      ]
    },
    {
      "cell_type": "code",
      "execution_count": 5,
      "metadata": {
        "id": "8WGIPMYOYv4n"
      },
      "outputs": [],
      "source": [
        "import numpy as np \n",
        "import pandas as pd \n",
        "import os\n",
        "import cv2\n",
        "import matplotlib.pyplot as plt\n",
        "import tensorflow as tf\n",
        "from tensorflow import keras\n",
        "from tensorflow.keras.preprocessing.image import ImageDataGenerator\n",
        "from tensorflow.keras.preprocessing import image\n",
        "import warnings\n",
        "warnings.filterwarnings(\"ignore\")"
      ]
    },
    {
      "cell_type": "code",
      "execution_count": 6,
      "metadata": {
        "id": "hfINVF0GYv4o"
      },
      "outputs": [],
      "source": [
        "from tensorflow.keras import datasets, layers, models, callbacks\n",
        "import matplotlib.pyplot as plt\n",
        "from keras.layers import Dense\n",
        "from keras.regularizers import l2\n",
        "from keras.layers import Conv2D\n",
        "from keras.regularizers import l1\n",
        "from keras.regularizers import l1_l2\n",
        "from keras import regularizers"
      ]
    },
    {
      "cell_type": "code",
      "execution_count": 7,
      "metadata": {
        "colab": {
          "base_uri": "https://localhost:8080/"
        },
        "id": "rlAyfZe_ZauV",
        "outputId": "5c572e8c-684b-47ce-aa63-d67589746d7d"
      },
      "outputs": [
        {
          "name": "stdout",
          "output_type": "stream",
          "text": [
            "Drive already mounted at /content/drive; to attempt to forcibly remount, call drive.mount(\"/content/drive\", force_remount=True).\n"
          ]
        }
      ],
      "source": [
        "from google.colab import drive\n",
        "drive.mount('/content/drive')"
      ]
    },
    {
      "cell_type": "code",
      "execution_count": 8,
      "metadata": {
        "id": "T0JswIzkYv4p"
      },
      "outputs": [],
      "source": [
        "train_datagen_with_transforms = tf.keras.preprocessing.image.ImageDataGenerator(      #tranforming the data for data augmentation\n",
        "    rescale=1. / 255,rotation_range=10, fill_mode='nearest',\n",
        "    featurewise_center=True,\n",
        "    featurewise_std_normalization=True,\n",
        "    vertical_flip= True,\n",
        "    shear_range=0.2,\n",
        "    zoom_range=0.2,\n",
        "    horizontal_flip=True )\n",
        "\n",
        "train_datagen_with_no_transforms = tf.keras.preprocessing.image.ImageDataGenerator(\n",
        "    rescale=1.0/255)\n",
        "\n",
        "val_datagen = tf.keras.preprocessing.image.ImageDataGenerator(\n",
        "        rescale=1.0/255)"
      ]
    },
    {
      "cell_type": "markdown",
      "metadata": {
        "id": "al9iOLANYv4r"
      },
      "source": [
        "train_generator = train_datagen_with_no_transforms.flow_from_directory(          \n",
        "    \"/mnt/c/Users/aniru/Desktop/train\",\n",
        "    target_size=(200, 200),\n",
        "    batch_size=32,\n",
        "    class_mode=\"categorical\"\n",
        ")\n",
        "train_generator_with_data_augmentation = train_datagen_with_transforms.flow_from_directory(\n",
        "    \"/mnt/c/Users/aniru/Desktop/train\",\n",
        "    target_size=(200, 200),\n",
        "    batch_size=32,\n",
        "    class_mode=\"categorical\"\n",
        ")\n",
        "validation_generator = val_datagen.flow_from_directory(\n",
        "    \"/mnt/c/Users/aniru/Desktop/test\",\n",
        "    target_size=(200,200),\n",
        "    batch_size=32,\n",
        "    class_mode=\"categorical\"\n",
        "    \n",
        ")"
      ]
    },
    {
      "cell_type": "code",
      "execution_count": 9,
      "metadata": {
        "colab": {
          "base_uri": "https://localhost:8080/"
        },
        "id": "_l9l3SBjYv4t",
        "outputId": "156f46d1-98bd-4fa0-bf71-e6a487d9cbc8"
      },
      "outputs": [
        {
          "name": "stdout",
          "output_type": "stream",
          "text": [
            "Found 1877 images belonging to 28 classes.\n",
            "Found 455 images belonging to 28 classes.\n"
          ]
        }
      ],
      "source": [
        "train_datagen = tf.keras.preprocessing.image.ImageDataGenerator(rescale=1./255,\n",
        "                                   rotation_range=20,\n",
        "                                   width_shift_range=0.2,\n",
        "                                   height_shift_range=0.2,\n",
        "                                   horizontal_flip=True,\n",
        "                                   validation_split=0.2) \n",
        "\n",
        "val_datagen = ImageDataGenerator(rescale=1./255, validation_split=0.2)\n",
        "\n",
        "\n",
        "train_data = train_datagen.flow_from_directory(\"/content/drive/MyDrive/intern/train\", \n",
        "                                               target_size=(200, 200), \n",
        "                                               color_mode='rgb', \n",
        "                                               class_mode='categorical',\n",
        "                                               shuffle=True,\n",
        "                                               subset = 'training')\n",
        "\n",
        "val_data = val_datagen.flow_from_directory(\"/content/drive/MyDrive/intern/train\", \n",
        "                                           target_size=(200, 200), \n",
        "                                           color_mode='rgb', \n",
        "                                           class_mode='categorical',\n",
        "                                           shuffle=False,\n",
        "                                           subset = 'validation')"
      ]
    },
    {
      "cell_type": "code",
      "execution_count": 10,
      "metadata": {
        "id": "-uZRx7dUYv4v"
      },
      "outputs": [],
      "source": [
        "sample_data = next(val_data)"
      ]
    },
    {
      "cell_type": "code",
      "execution_count": 11,
      "metadata": {
        "colab": {
          "base_uri": "https://localhost:8080/"
        },
        "id": "CEwRal51Yv4v",
        "outputId": "8f0f619c-c0d8-4f25-e45e-aef2fcfb1992"
      },
      "outputs": [
        {
          "data": {
            "text/plain": [
              "(32, 200, 200, 3)"
            ]
          },
          "execution_count": 11,
          "metadata": {},
          "output_type": "execute_result"
        }
      ],
      "source": [
        "sample_data[0].shape   #shape of our images"
      ]
    },
    {
      "cell_type": "code",
      "execution_count": 12,
      "metadata": {
        "id": "evT-BNPpYv4w"
      },
      "outputs": [],
      "source": [
        "nb_train_samples = train_data.samples\n",
        "nb_val_samples = val_data.samples"
      ]
    },
    {
      "cell_type": "code",
      "execution_count": 13,
      "metadata": {
        "colab": {
          "base_uri": "https://localhost:8080/"
        },
        "id": "NvglKWfbYv4w",
        "outputId": "3957d902-d307-4cf0-d1af-9fa8d07d8ba0",
        "scrolled": true
      },
      "outputs": [
        {
          "data": {
            "text/plain": [
              "1877"
            ]
          },
          "execution_count": 13,
          "metadata": {},
          "output_type": "execute_result"
        }
      ],
      "source": [
        "train_data.samples"
      ]
    },
    {
      "cell_type": "markdown",
      "metadata": {
        "id": "at3gpUg_Yv4z"
      },
      "source": [
        "# CNN"
      ]
    },
    {
      "cell_type": "code",
      "execution_count": 14,
      "metadata": {
        "id": "S2WxdM-3Yv4z"
      },
      "outputs": [],
      "source": [
        "model = models.Sequential() \n",
        "model.add(tf.keras.layers.Conv2D(32, (3,3), activation=\"relu\", input_shape=(200,200,3), padding=\"same\"))\n",
        "model.add(keras.layers.MaxPool2D(2,2))\n",
        "model.add(tf.keras.layers.Conv2D(32, (3,3), activation=\"relu\", padding=\"same\"))\n",
        "model.add(keras.layers.MaxPool2D(2,2))\n",
        "model.add(tf.keras.layers.Flatten())                                   \n",
        "model.add(tf.keras.layers.Dense(128, activation=\"relu\"))\n",
        "model.add(tf.keras.layers.Dense(128, activation=\"relu\"))\n",
        "model.add(tf.keras.layers.Dense(64, activation=\"relu\"))\n",
        "model.add(tf.keras.layers.Dense(28,activation=\"Softmax\"))"
      ]
    },
    {
      "cell_type": "code",
      "execution_count": 15,
      "metadata": {
        "colab": {
          "base_uri": "https://localhost:8080/"
        },
        "id": "Ek0dKbBpYv40",
        "outputId": "af45e179-9720-4df0-8cc8-dbd79c345522"
      },
      "outputs": [
        {
          "name": "stdout",
          "output_type": "stream",
          "text": [
            "Model: \"sequential\"\n",
            "_________________________________________________________________\n",
            " Layer (type)                Output Shape              Param #   \n",
            "=================================================================\n",
            " conv2d (Conv2D)             (None, 200, 200, 32)      896       \n",
            "                                                                 \n",
            " max_pooling2d (MaxPooling2D  (None, 100, 100, 32)     0         \n",
            " )                                                               \n",
            "                                                                 \n",
            " conv2d_1 (Conv2D)           (None, 100, 100, 32)      9248      \n",
            "                                                                 \n",
            " max_pooling2d_1 (MaxPooling  (None, 50, 50, 32)       0         \n",
            " 2D)                                                             \n",
            "                                                                 \n",
            " flatten (Flatten)           (None, 80000)             0         \n",
            "                                                                 \n",
            " dense (Dense)               (None, 128)               10240128  \n",
            "                                                                 \n",
            " dense_1 (Dense)             (None, 128)               16512     \n",
            "                                                                 \n",
            " dense_2 (Dense)             (None, 28)                3612      \n",
            "                                                                 \n",
            "=================================================================\n",
            "Total params: 10,270,396\n",
            "Trainable params: 10,270,396\n",
            "Non-trainable params: 0\n",
            "_________________________________________________________________\n"
          ]
        }
      ],
      "source": [
        "model.summary()"
      ]
    },
    {
      "cell_type": "code",
      "execution_count": 16,
      "metadata": {
        "id": "5QmXoBwpYv40"
      },
      "outputs": [],
      "source": [
        "loss_fn = tf.keras.losses.CategoricalCrossentropy(from_logits=True)"
      ]
    },
    {
      "cell_type": "code",
      "execution_count": 17,
      "metadata": {
        "id": "cH5az_ivYv40"
      },
      "outputs": [],
      "source": [
        "optimizer_fn=tf.keras.optimizers.Adam(learning_rate=0.001)"
      ]
    },
    {
      "cell_type": "code",
      "execution_count": 18,
      "metadata": {
        "id": "P4_IxUchYv41"
      },
      "outputs": [],
      "source": [
        "model.compile(optimizer=optimizer_fn,\n",
        "              loss=loss_fn,\n",
        "              metrics=['accuracy'])"
      ]
    },
    {
      "cell_type": "code",
      "execution_count": null,
      "metadata": {
        "colab": {
          "base_uri": "https://localhost:8080/"
        },
        "id": "2Kd2S0CaYv41",
        "outputId": "962d94ac-19f3-431f-eae0-1944c37694ee"
      },
      "outputs": [
        {
          "name": "stdout",
          "output_type": "stream",
          "text": [
            "Epoch 1/20\n",
            "43/59 [====================>.........] - ETA: 43s - loss: 3.3178 - accuracy: 0.0740"
          ]
        }
      ],
      "source": [
        "history=model.fit_generator(train_data, epochs = 20, validation_data = val_data)"
      ]
    },
    {
      "cell_type": "markdown",
      "metadata": {
        "id": "vt2Y3yfRYv41"
      },
      "source": [
        "# with augmentation "
      ]
    },
    {
      "cell_type": "code",
      "execution_count": null,
      "metadata": {
        "id": "V8yjQImiYv42"
      },
      "outputs": [],
      "source": [
        "model2 =models.Sequential()     \n",
        "model2.add(tf.keras.layers.Conv2D(32, (3,3), activation=\"relu\", input_shape=(200,200,3), padding=\"same\"))\n",
        "model2.add(tf.keras.layers.MaxPooling2D(2,2))\n",
        "model2.add(tf.keras.layers.Conv2D(32, (3,3), activation=\"relu\"))\n",
        "model2.add(tf.keras.layers.Conv2D(64, (3,3), activation=\"relu\"))\n",
        "model2.add(keras.layers.MaxPooling2D(2,2))\n",
        "model2.add(tf.keras.layers.Flatten())\n",
        "model2.add(tf.keras.layers.Dropout(0.4))\n",
        "model2.add(tf.keras.layers.Dense(64, activation=\"relu\"))\n",
        "model2.add(tf.keras.layers.Dense(28,activation=\"Softmax\"))"
      ]
    }
  ],
  "metadata": {
    "colab": {
      "provenance": []
    },
    "kernelspec": {
      "display_name": "Python 3.10.6 64-bit",
      "language": "python",
      "name": "python3"
    },
    "language_info": {
      "codemirror_mode": {
        "name": "ipython",
        "version": 3
      },
      "file_extension": ".py",
      "mimetype": "text/x-python",
      "name": "python",
      "nbconvert_exporter": "python",
      "pygments_lexer": "ipython3",
      "version": "3.10.6"
    },
    "vscode": {
      "interpreter": {
        "hash": "916dbcbb3f70747c44a77c7bcd40155683ae19c65e1c03b4aa3499c5328201f1"
      }
    }
  },
  "nbformat": 4,
  "nbformat_minor": 0
}
